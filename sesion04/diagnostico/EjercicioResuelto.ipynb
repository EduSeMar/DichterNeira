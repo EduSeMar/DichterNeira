{
 "cells": [
  {
   "cell_type": "markdown",
   "id": "quantitative-wallet",
   "metadata": {},
   "source": [
    "# Tarea 1 - Cuarto Módulo\n",
    "## Eduardo Martínez Mayorga"
   ]
  },
  {
   "cell_type": "code",
   "execution_count": 1,
   "id": "adolescent-hopkins",
   "metadata": {},
   "outputs": [],
   "source": [
    "import numpy as np\n",
    "from numpy.random import seed, randn\n",
    "import matplotlib.pyplot as plt"
   ]
  },
  {
   "cell_type": "code",
   "execution_count": 2,
   "id": "similar-wholesale",
   "metadata": {},
   "outputs": [],
   "source": [
    "#semilla inicial para llegar al mismo resultado\n",
    "seed(1643)\n",
    "#Numero de observaciones simuladas\n",
    "nobs=100\n",
    "#features\n",
    "X=np.linspace(0,1,nobs) + randn(nobs)*.3\n",
    "\n",
    "#variable dependiente\n",
    "theta0, theta1=.3,1.5 ####---no los conocemos\n",
    "\n",
    "y=theta0 + theta1*X + randn(nobs)*.35\n",
    "\n",
    "n = len(y)"
   ]
  },
  {
   "cell_type": "markdown",
   "id": "antique-newsletter",
   "metadata": {},
   "source": [
    "Para un *training dataset (x,y) con $n$ observaciones, se puede demostrar que los valores $\\theta_0^*$, $\\theta_1^*$ que minimizan $J(\\theta_0, \\theta_1)$ son: \n",
    "$$\n",
    "    \\theta_1^* = \\frac{n\\sum_{i=1}^nx_iy_i - \\left(\\sum_{i=1}^nx_i\\right)\\left(\\sum_{i=1}^ny_i\\right)}{n\\sum_{i=1}^nx_i^2 - \\left(\\sum_{i=1}^nx_i\\right)^2}\n",
    "$$\n",
    "\n",
    "$$\n",
    "    \\theta_0^* = \\frac{1}{n}\\sum_{i=1}^ny_i - \\theta_1^* \\frac{1}{n}\\sum_{i=1}^nx_i\n",
    "$$"
   ]
  },
  {
   "cell_type": "markdown",
   "id": "tender-choir",
   "metadata": {},
   "source": [
    "## Tarea 1 (Parte 1)\n",
    "Calcular  `theta0_op`, `theta1_op` considerando las ecuaciones de arriba y comparar con los valres de `theta0` y `theta1` con los que generamos $y$ y con los que gráficamente se puede ver que son."
   ]
  },
  {
   "cell_type": "code",
   "execution_count": 3,
   "id": "informational-paragraph",
   "metadata": {},
   "outputs": [
    {
     "data": {
      "text/plain": [
       "1.556439922455269"
      ]
     },
     "execution_count": 3,
     "metadata": {},
     "output_type": "execute_result"
    }
   ],
   "source": [
    "numerador = n*sum(X * y) - sum(X)*sum(y)\n",
    "denominador = n*sum(np.square(X)) - sum(X)**2\n",
    "theta1_op = numerador/denominador\n",
    "theta1_op"
   ]
  },
  {
   "cell_type": "code",
   "execution_count": 4,
   "id": "coordinate-enclosure",
   "metadata": {},
   "outputs": [
    {
     "data": {
      "text/plain": [
       "0.3037582638605373"
      ]
     },
     "execution_count": 4,
     "metadata": {},
     "output_type": "execute_result"
    }
   ],
   "source": [
    "theta0_op = np.mean(y) - theta1_op*np.mean(X)\n",
    "theta0_op"
   ]
  },
  {
   "cell_type": "markdown",
   "id": "coated-drain",
   "metadata": {},
   "source": [
    "Para un problema de **regresión lineal generalizada**, el vector $\\theta^* = [\\theta_0, \\theta_1, \\ldots, \\theta_m]$ de valores que minimizan $J(\\theta_0, \\theta_1, \\ldots, \\theta_m)$ dado por\n",
    "\n",
    "$$\n",
    "    \\theta^* = (X^T X)^{-1} X^T y\n",
    "$$"
   ]
  },
  {
   "cell_type": "markdown",
   "id": "double-stroke",
   "metadata": {},
   "source": [
    "## Tarea 1 (Parte 2)\n",
    "\n",
    "Usar la solución cerrada de la forma matricial para llegar a los valores de la Parte1. \n",
    "Tip: `np.linalg.inv` desde `numpy`. "
   ]
  },
  {
   "cell_type": "code",
   "execution_count": 5,
   "id": "cutting-hollow",
   "metadata": {},
   "outputs": [],
   "source": [
    "unos = np.ones(len(X)) # se crea un arreglo unidimensional de 1's\n",
    "X_mat = np.stack([unos, X], axis=1) # Se crea la matriz con la primera columna de 1's"
   ]
  },
  {
   "cell_type": "code",
   "execution_count": 6,
   "id": "vertical-salmon",
   "metadata": {},
   "outputs": [
    {
     "data": {
      "text/plain": [
       "array([[ 1.        , -0.53331765],\n",
       "       [ 1.        , -0.72085395],\n",
       "       [ 1.        , -0.04773104],\n",
       "       [ 1.        ,  0.3562981 ],\n",
       "       [ 1.        , -0.36521835],\n",
       "       [ 1.        ,  0.27522554],\n",
       "       [ 1.        ,  0.3792767 ],\n",
       "       [ 1.        , -0.11798335],\n",
       "       [ 1.        ,  0.01600945],\n",
       "       [ 1.        ,  0.46986782],\n",
       "       [ 1.        ,  0.25416652],\n",
       "       [ 1.        , -0.06348842],\n",
       "       [ 1.        ,  0.54217758],\n",
       "       [ 1.        ,  0.00826938],\n",
       "       [ 1.        ,  0.25938716],\n",
       "       [ 1.        ,  0.7251279 ],\n",
       "       [ 1.        ,  0.29649903],\n",
       "       [ 1.        ,  0.6271914 ],\n",
       "       [ 1.        ,  0.3664338 ],\n",
       "       [ 1.        ,  0.10933335],\n",
       "       [ 1.        , -0.02411212],\n",
       "       [ 1.        ,  0.21719055],\n",
       "       [ 1.        ,  0.01886533],\n",
       "       [ 1.        , -0.48761031],\n",
       "       [ 1.        ,  0.46769769],\n",
       "       [ 1.        ,  0.50517818],\n",
       "       [ 1.        ,  0.36361937],\n",
       "       [ 1.        ,  0.00964684],\n",
       "       [ 1.        ,  0.78662596],\n",
       "       [ 1.        ,  0.12212534],\n",
       "       [ 1.        ,  0.14348208],\n",
       "       [ 1.        ,  0.56702836],\n",
       "       [ 1.        ,  0.81553566],\n",
       "       [ 1.        ,  0.09387527],\n",
       "       [ 1.        ,  0.16007024],\n",
       "       [ 1.        ,  0.67423845],\n",
       "       [ 1.        ,  0.13728547],\n",
       "       [ 1.        ,  0.10516383],\n",
       "       [ 1.        ,  0.29235143],\n",
       "       [ 1.        ,  0.50712813],\n",
       "       [ 1.        ,  0.68202335],\n",
       "       [ 1.        ,  0.61702977],\n",
       "       [ 1.        ,  0.48045171],\n",
       "       [ 1.        ,  0.55633843],\n",
       "       [ 1.        , -0.04991168],\n",
       "       [ 1.        ,  0.45872173],\n",
       "       [ 1.        ,  0.21929299],\n",
       "       [ 1.        ,  0.20140093],\n",
       "       [ 1.        ,  0.22893102],\n",
       "       [ 1.        ,  0.49960177],\n",
       "       [ 1.        ,  0.31682483],\n",
       "       [ 1.        ,  0.62722243],\n",
       "       [ 1.        ,  0.80484943],\n",
       "       [ 1.        ,  0.70874166],\n",
       "       [ 1.        ,  0.44528565],\n",
       "       [ 1.        ,  0.4606193 ],\n",
       "       [ 1.        ,  0.91720712],\n",
       "       [ 1.        ,  0.78779843],\n",
       "       [ 1.        ,  0.28717626],\n",
       "       [ 1.        ,  0.60648719],\n",
       "       [ 1.        ,  0.47092584],\n",
       "       [ 1.        ,  0.17255587],\n",
       "       [ 1.        ,  0.39379732],\n",
       "       [ 1.        ,  0.55228098],\n",
       "       [ 1.        ,  0.38644973],\n",
       "       [ 1.        ,  0.2384724 ],\n",
       "       [ 1.        , -0.03732026],\n",
       "       [ 1.        ,  1.03011379],\n",
       "       [ 1.        ,  0.87018419],\n",
       "       [ 1.        ,  0.46582611],\n",
       "       [ 1.        ,  0.49466182],\n",
       "       [ 1.        ,  1.094596  ],\n",
       "       [ 1.        ,  1.04511951],\n",
       "       [ 1.        ,  0.58916597],\n",
       "       [ 1.        ,  0.93738153],\n",
       "       [ 1.        ,  1.25839303],\n",
       "       [ 1.        ,  0.99303277],\n",
       "       [ 1.        ,  0.91414078],\n",
       "       [ 1.        ,  1.33540289],\n",
       "       [ 1.        ,  0.77344454],\n",
       "       [ 1.        ,  1.28343358],\n",
       "       [ 1.        ,  0.91707196],\n",
       "       [ 1.        ,  0.35739418],\n",
       "       [ 1.        ,  0.86218261],\n",
       "       [ 1.        ,  0.75565114],\n",
       "       [ 1.        ,  0.36627152],\n",
       "       [ 1.        ,  0.6770913 ],\n",
       "       [ 1.        ,  1.16128169],\n",
       "       [ 1.        ,  0.95017592],\n",
       "       [ 1.        ,  0.64697952],\n",
       "       [ 1.        ,  1.35028481],\n",
       "       [ 1.        ,  0.99704046],\n",
       "       [ 1.        ,  1.3054344 ],\n",
       "       [ 1.        ,  0.72245191],\n",
       "       [ 1.        ,  1.00539307],\n",
       "       [ 1.        ,  0.78461831],\n",
       "       [ 1.        ,  0.89967694],\n",
       "       [ 1.        ,  0.69155308],\n",
       "       [ 1.        ,  1.47669034],\n",
       "       [ 1.        ,  1.35433739]])"
      ]
     },
     "execution_count": 6,
     "metadata": {},
     "output_type": "execute_result"
    }
   ],
   "source": [
    "X_mat"
   ]
  },
  {
   "cell_type": "code",
   "execution_count": 7,
   "id": "passing-costa",
   "metadata": {},
   "outputs": [],
   "source": [
    "# Se aplica la fórmula matricial\n",
    "theta0_op_mat ,theta1_op_mat = np.linalg.inv(np.transpose(X_mat) @ X_mat) @ (np.transpose(X_mat) @ y)"
   ]
  },
  {
   "cell_type": "code",
   "execution_count": 8,
   "id": "southwest-paint",
   "metadata": {},
   "outputs": [
    {
     "data": {
      "text/plain": [
       "0.3037582638605367"
      ]
     },
     "execution_count": 8,
     "metadata": {},
     "output_type": "execute_result"
    }
   ],
   "source": [
    "# Estimado de theta0\n",
    "theta0_op_mat"
   ]
  },
  {
   "cell_type": "code",
   "execution_count": 9,
   "id": "therapeutic-briefs",
   "metadata": {},
   "outputs": [
    {
     "data": {
      "text/plain": [
       "1.55643992245527"
      ]
     },
     "execution_count": 9,
     "metadata": {},
     "output_type": "execute_result"
    }
   ],
   "source": [
    "# Estimado de theta1\n",
    "theta1_op_mat"
   ]
  },
  {
   "cell_type": "markdown",
   "id": "civilian-genetics",
   "metadata": {},
   "source": [
    "Nótese que `theta0_op` = `theta0_op_mat` y `theta1_op` = `theta1_op_mat`"
   ]
  },
  {
   "cell_type": "code",
   "execution_count": 10,
   "id": "defined-flesh",
   "metadata": {},
   "outputs": [
    {
     "name": "stdout",
     "output_type": "stream",
     "text": [
      "El valor de theta0 (ordenada el origen) es: 0.3037582638605373\n",
      "El valor de theta1 (pendiente) es: 1.556439922455269\n"
     ]
    }
   ],
   "source": [
    "print(\"El valor de theta0 (ordenada el origen) es: \" + str(theta0_op))\n",
    "print(\"El valor de theta1 (pendiente) es: \" + str(theta1_op))"
   ]
  },
  {
   "cell_type": "code",
   "execution_count": 11,
   "id": "inappropriate-integration",
   "metadata": {},
   "outputs": [
    {
     "data": {
      "text/plain": [
       "Text(0.3037582638605367, 1.55643992245527, '$theta_{OLS}$')"
      ]
     },
     "execution_count": 11,
     "metadata": {},
     "output_type": "execute_result"
    },
    {
     "data": {
      "image/png": "[encoded data removed]",
      "text/plain": [
       "<Figure size 432x288 with 2 Axes>"
      ]
     },
     "metadata": {
      "needs_background": "light"
     },
     "output_type": "display_data"
    }
   ],
   "source": [
    "# Para dibujar a los estimadores por mínimos cuadrados (ordinarios)\n",
    "\n",
    "t0, t1 = np.mgrid[-3:3:.05, -5:5:.05]\n",
    "z=(t0.reshape(-1,1)+t1.reshape(-1,1)*X-y)**2\n",
    "z1=z.sum(axis=1).reshape(t0.shape)\n",
    "plt.contourf(t0,t1,z1,300)\n",
    "plt.xlabel(r\"$\\theta_0$\")\n",
    "plt.ylabel(r\"$\\theta_1$\")\n",
    "plt.title(r\"$J(\\theta_0,\\theta_1) =$\")\n",
    "plt.colorbar()\n",
    "plt.scatter(theta0_op_mat, theta1_op_mat)\n",
    "# Se agrega el punto óptimo encontrado\n",
    "plt.annotate(\"$theta_{OLS}$\", (theta0_op_mat, theta1_op_mat))"
   ]
  },
  {
   "cell_type": "code",
   "execution_count": 12,
   "id": "tribal-investor",
   "metadata": {},
   "outputs": [
    {
     "data": {
      "text/plain": [
       "[<matplotlib.lines.Line2D at 0x7fce87d16940>]"
      ]
     },
     "execution_count": 12,
     "metadata": {},
     "output_type": "execute_result"
    },
    {
     "data": {
      "image/png": "[encoded data removed]",
      "text/plain": [
       "<Figure size 432x288 with 1 Axes>"
      ]
     },
     "metadata": {
      "needs_background": "light"
     },
     "output_type": "display_data"
    }
   ],
   "source": [
    "n=len(X)\n",
    "xrange=np.linspace(-1,1.5,100)\n",
    "plt.scatter(X,y)\n",
    "# Se toman los parámetros óptimos encontrados\n",
    "plt.plot(xrange,theta0_op+theta1_op*xrange,color=\"tab:orange\")"
   ]
  }
 ],
 "metadata": {
  "kernelspec": {
   "display_name": "Python 3",
   "language": "python",
   "name": "python3"
  },
  "language_info": {
   "codemirror_mode": {
    "name": "ipython",
    "version": 3
   },
   "file_extension": ".py",
   "mimetype": "text/x-python",
   "name": "python",
   "nbconvert_exporter": "python",
   "pygments_lexer": "ipython3",
   "version": "3.9.1"
  }
 },
 "nbformat": 4,
 "nbformat_minor": 5
}
