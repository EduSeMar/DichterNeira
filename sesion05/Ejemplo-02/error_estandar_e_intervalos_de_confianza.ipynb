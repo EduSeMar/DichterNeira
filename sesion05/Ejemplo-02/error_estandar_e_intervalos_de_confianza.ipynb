{
 "cells": [
  {
   "cell_type": "markdown",
   "metadata": {},
   "source": [
    "## Ejemplo 2: Error estándar e intervalos de confianza\n",
    "\n",
    "### 1. Objetivos:\n",
    "    - Aprender a obtener e interpretar el error estándar y los intervalos de confianza\n",
    " \n",
    "---\n",
    "    \n",
    "### 2. Desarrollo:"
   ]
  },
  {
   "cell_type": "markdown",
   "metadata": {},
   "source": [
    "### a) Error estándar\n",
    "\n",
    "Recordarás que la desviación estándar es una medida de dispersión de nuestros datos. Bueno, pues el error estándar es la desviación estándar de nuestra serie de medidas estadísticas:"
   ]
  },
  {
   "cell_type": "code",
   "execution_count": 1,
   "metadata": {},
   "outputs": [],
   "source": [
    "import pandas as pd\n",
    "import matplotlib.pyplot as plt\n",
    "import seaborn as sns"
   ]
  },
  {
   "cell_type": "code",
   "execution_count": 2,
   "metadata": {},
   "outputs": [
    {
     "data": {
      "text/html": [
       "<div>\n",
       "<style scoped>\n",
       "    .dataframe tbody tr th:only-of-type {\n",
       "        vertical-align: middle;\n",
       "    }\n",
       "\n",
       "    .dataframe tbody tr th {\n",
       "        vertical-align: top;\n",
       "    }\n",
       "\n",
       "    .dataframe thead th {\n",
       "        text-align: right;\n",
       "    }\n",
       "</style>\n",
       "<table border=\"1\" class=\"dataframe\">\n",
       "  <thead>\n",
       "    <tr style=\"text-align: right;\">\n",
       "      <th></th>\n",
       "      <th>pregnancies</th>\n",
       "      <th>glucose</th>\n",
       "      <th>blood_pressure</th>\n",
       "      <th>skin_thickness</th>\n",
       "      <th>insulin</th>\n",
       "      <th>bmi</th>\n",
       "      <th>diabetes_pedigree_function</th>\n",
       "      <th>age</th>\n",
       "      <th>outcome</th>\n",
       "    </tr>\n",
       "  </thead>\n",
       "  <tbody>\n",
       "    <tr>\n",
       "      <th>0</th>\n",
       "      <td>6</td>\n",
       "      <td>148</td>\n",
       "      <td>72</td>\n",
       "      <td>35</td>\n",
       "      <td>0</td>\n",
       "      <td>33.6</td>\n",
       "      <td>0.627</td>\n",
       "      <td>50</td>\n",
       "      <td>1</td>\n",
       "    </tr>\n",
       "    <tr>\n",
       "      <th>1</th>\n",
       "      <td>1</td>\n",
       "      <td>85</td>\n",
       "      <td>66</td>\n",
       "      <td>29</td>\n",
       "      <td>0</td>\n",
       "      <td>26.6</td>\n",
       "      <td>0.351</td>\n",
       "      <td>31</td>\n",
       "      <td>0</td>\n",
       "    </tr>\n",
       "    <tr>\n",
       "      <th>2</th>\n",
       "      <td>8</td>\n",
       "      <td>183</td>\n",
       "      <td>64</td>\n",
       "      <td>0</td>\n",
       "      <td>0</td>\n",
       "      <td>23.3</td>\n",
       "      <td>0.672</td>\n",
       "      <td>32</td>\n",
       "      <td>1</td>\n",
       "    </tr>\n",
       "    <tr>\n",
       "      <th>3</th>\n",
       "      <td>1</td>\n",
       "      <td>89</td>\n",
       "      <td>66</td>\n",
       "      <td>23</td>\n",
       "      <td>94</td>\n",
       "      <td>28.1</td>\n",
       "      <td>0.167</td>\n",
       "      <td>21</td>\n",
       "      <td>0</td>\n",
       "    </tr>\n",
       "    <tr>\n",
       "      <th>4</th>\n",
       "      <td>0</td>\n",
       "      <td>137</td>\n",
       "      <td>40</td>\n",
       "      <td>35</td>\n",
       "      <td>168</td>\n",
       "      <td>43.1</td>\n",
       "      <td>2.288</td>\n",
       "      <td>33</td>\n",
       "      <td>1</td>\n",
       "    </tr>\n",
       "  </tbody>\n",
       "</table>\n",
       "</div>"
      ],
      "text/plain": [
       "   pregnancies  glucose  blood_pressure  skin_thickness  insulin   bmi  \\\n",
       "0            6      148              72              35        0  33.6   \n",
       "1            1       85              66              29        0  26.6   \n",
       "2            8      183              64               0        0  23.3   \n",
       "3            1       89              66              23       94  28.1   \n",
       "4            0      137              40              35      168  43.1   \n",
       "\n",
       "   diabetes_pedigree_function  age  outcome  \n",
       "0                       0.627   50        1  \n",
       "1                       0.351   31        0  \n",
       "2                       0.672   32        1  \n",
       "3                       0.167   21        0  \n",
       "4                       2.288   33        1  "
      ]
     },
     "execution_count": 2,
     "metadata": {},
     "output_type": "execute_result"
    }
   ],
   "source": [
    "df = pd.read_csv('../../Datasets/diabetes-clean.csv', index_col=0)\n",
    "\n",
    "df.head()"
   ]
  },
  {
   "cell_type": "code",
   "execution_count": 3,
   "metadata": {},
   "outputs": [],
   "source": [
    "# Repito lo del boostrap del cuaderno (jupyter notebook) pasado\n",
    "\n",
    "glucose = df['glucose']\n",
    "\n",
    "means = []\n",
    "\n",
    "for i in range(100_000):\n",
    "    sample = glucose.sample(n=50, replace=True)\n",
    "    means.append(sample.mean())\n",
    "    \n",
    "serie_means = pd.Series(means)"
   ]
  },
  {
   "cell_type": "code",
   "execution_count": 4,
   "metadata": {},
   "outputs": [
    {
     "name": "stdout",
     "output_type": "stream",
     "text": [
      "Error estandar: 4.534415482000298\n"
     ]
    }
   ],
   "source": [
    "# Para obtener el error estándar simplemente calculo la desviación estándar\n",
    "# de la lista donde guardamos las medias de cada muestra boostrap\n",
    "\n",
    "print(f'Error estandar: {serie_means.std()}')"
   ]
  },
  {
   "cell_type": "markdown",
   "metadata": {},
   "source": [
    "Recuerda que para poder interpretar correctamente la desviación estándar tienes que saber un poco acerca del rango y distribución de tus datos:"
   ]
  },
  {
   "cell_type": "code",
   "execution_count": 5,
   "metadata": {},
   "outputs": [
    {
     "name": "stdout",
     "output_type": "stream",
     "text": [
      "Valor mínimo: 102.84\n",
      "Valor máximo: 139.86\n",
      "Rango: 37.02000000000001\n"
     ]
    }
   ],
   "source": [
    "# Vamos a comparar este valor con el de los datos originales\n",
    "\n",
    "print(f'Valor mínimo: {serie_means.min()}')\n",
    "print(f'Valor máximo: {serie_means.max()}')\n",
    "print(f'Rango: {serie_means.max() - serie_means.min()}')"
   ]
  },
  {
   "cell_type": "code",
   "execution_count": 9,
   "metadata": {},
   "outputs": [
    {
     "data": {
      "image/png": "[encoded data removed]",
      "text/plain": [
       "<Figure size 432x288 with 1 Axes>"
      ]
     },
     "metadata": {
      "needs_background": "light"
     },
     "output_type": "display_data"
    }
   ],
   "source": [
    "# Obtengamos un boxplot de la lista de las medias (ojo no de los datos originales)\n",
    "\n",
    "sns.boxplot(x=serie_means);"
   ]
  },
  {
   "cell_type": "markdown",
   "metadata": {},
   "source": [
    "Vamos a preguntarnos:\n",
    "\n",
    "1. ¿Cómo podemos interpretar la desviación estándar? ¿Qué implica una mayor o menor desviación estándar?\n",
    "2. ¿Por qué necesitamos saber el rango de nuestros datos para interpretar correctamente la desviación estándar?\n",
    "\n",
    "porque la desviación se compara con el rango, si éstos son parecidos significa que hay muuuucha variabilidad. Si la desviación es muuuuy pequeña con respecto al rango, significa que hay poca variabilidad\n",
    "\n",
    "3. ¿En este caso específico qué significa la desviación estándar que obtuvimos?\n",
    "\n",
    "4.53 vs 37 (rango) es pequeño, por lo tanto la variabilidad es pequeña. Significa que le media tiene poca variabilidad"
   ]
  },
  {
   "cell_type": "markdown",
   "metadata": {},
   "source": [
    "### b) Intervalos de confianza\n",
    "\n",
    "Los intervalos de confianza son una manera de cuantificar la incertidumbre que existe en nuestra medida estadística. Si pudiéramos regresar a nuesta fuente original a tomar más muestras, el intervalo de confianza sería el intervalo numérico en el cual podemos asegurar con cierto nivel de seguridad que caería nuestra nueva medición estadística.\n",
    "\n",
    "Para obtener un intervalo de 95% de confianza, por ejemplo, tenemos que tomar nuestro histograma, removerle 2.5% de valores al principio y al final, y obtener los nuevos valores mínimo y máximo. De esta manera el 95% de los valores originales quedan dentro de este nuevo intervalo.\n",
    "\n",
    "Podemos obtener nuestro intervalo de confianza utilizando cuantiles:"
   ]
  },
  {
   "cell_type": "code",
   "execution_count": 10,
   "metadata": {},
   "outputs": [],
   "source": [
    "limite_inferior = serie_means.quantile(0.025)\n",
    "limite_superior = serie_means.quantile(0.975)"
   ]
  },
  {
   "cell_type": "markdown",
   "metadata": {},
   "source": [
    "Podemos escribir nuestro intervalo de confianza de dos maneras distintas:"
   ]
  },
  {
   "cell_type": "code",
   "execution_count": 11,
   "metadata": {},
   "outputs": [
    {
     "name": "stdout",
     "output_type": "stream",
     "text": [
      "Intervalo de 95% confianza de la media: 112.04 < 120.89453125 < 129.88\n"
     ]
    }
   ],
   "source": [
    "print(f'Intervalo de 95% confianza de la media: {limite_inferior} < {glucose.mean()} < {limite_superior}')"
   ]
  },
  {
   "cell_type": "code",
   "execution_count": 19,
   "metadata": {},
   "outputs": [
    {
     "name": "stdout",
     "output_type": "stream",
     "text": [
      "Intervalo de 95% confianza de la media: 120.89453125 +/- 8.88024999999999\n"
     ]
    }
   ],
   "source": [
    "mean_of_intervals = ((glucose.mean() - limite_inferior) + (limite_superior - glucose.mean())) / 2\n",
    "\n",
    "print(f'Intervalo de 95% confianza de la media: {glucose.mean()} +/- {mean_of_intervals}')"
   ]
  },
  {
   "cell_type": "markdown",
   "metadata": {},
   "source": [
    "Podemos visualizar estos límites también:"
   ]
  },
  {
   "cell_type": "code",
   "execution_count": 13,
   "metadata": {},
   "outputs": [
    {
     "data": {
      "image/png": "[encoded data removed]",
      "text/plain": [
       "<Figure size 432x288 with 1 Axes>"
      ]
     },
     "metadata": {
      "needs_background": "light"
     },
     "output_type": "display_data"
    }
   ],
   "source": [
    "sns.histplot(serie_means, kde=False)\n",
    "plt.axvline(limite_inferior)\n",
    "\n",
    "plt.axvline(limite_superior);"
   ]
  },
  {
   "cell_type": "markdown",
   "metadata": {},
   "source": [
    "Interpretación:\n",
    "\n",
    "El 95% de nuestras medias (OJO: NO de nuestros datos originales necesariamente) se encuentra entre 112 y 130"
   ]
  }
 ],
 "metadata": {
  "kernelspec": {
   "display_name": "Python 3",
   "language": "python",
   "name": "python3"
  },
  "language_info": {
   "codemirror_mode": {
    "name": "ipython",
    "version": 3
   },
   "file_extension": ".py",
   "mimetype": "text/x-python",
   "name": "python",
   "nbconvert_exporter": "python",
   "pygments_lexer": "ipython3",
   "version": "3.9.1"
  }
 },
 "nbformat": 4,
 "nbformat_minor": 4
}
